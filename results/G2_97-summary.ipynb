{
 "cells": [
  {
   "cell_type": "code",
   "execution_count": 1,
   "metadata": {},
   "outputs": [],
   "source": [
    "import numpy as np\n",
    "import pandas as pd\n",
    "import matplotlib.pyplot as plt\n",
    "from scipy.optimize import curve_fit\n",
    "\n",
    "import matplotlib as mpl\n",
    "mpl.rcParams['figure.dpi']= 200\n",
    "%config InlineBackend.figure_format = 'svg'\n",
    "# plt.rcParams['font.size'] = 15"
   ]
  },
  {
   "cell_type": "code",
   "execution_count": 2,
   "metadata": {},
   "outputs": [],
   "source": [
    "def get_vacuum(fname):\n",
    "    try:\n",
    "        f = open(fname,\"r\")\n",
    "    except:\n",
    "        raise FileNotFoundError(fname)\n",
    "    line = f.readline()\n",
    "    while line != '':\n",
    "        if 'vacuum' in line:\n",
    "            vacuum = float(line.split()[-2])\n",
    "            return vacuum\n",
    "        else:\n",
    "            line = f.readline()\n",
    "def get_eqp_homo_lumo_gap(fname):\n",
    "    try:\n",
    "        f = open(fname,\"r\")\n",
    "    except:\n",
    "        raise FileNotFoundError(fname)  \n",
    "    f.readline();\n",
    "    f.readline();\n",
    "    line = f.readline()\n",
    "    homo = float(line.split()[5])\n",
    "    line = f.readline()\n",
    "    lumo = float(line.split()[5])\n",
    "    return homo,lumo,lumo-homo\n",
    "def model_func(x,a,b):\n",
    "    return a+b/x"
   ]
  },
  {
   "cell_type": "code",
   "execution_count": null,
   "metadata": {},
   "outputs": [],
   "source": []
  },
  {
   "cell_type": "code",
   "execution_count": 3,
   "metadata": {},
   "outputs": [],
   "source": [
    "moles = ['C2H2', 'C2H4', 'C4H4S', 'C6H6', 'CH3Cl', \n",
    "        'CH3OH', 'CH3SH', 'CH4', 'Cl2', 'ClF', 'CO', \n",
    "        'CO2', 'CS', 'F2', 'H2CO', 'H2O', 'H2O2', \n",
    "        'HCl', 'HCN','Na2'] \n",
    "refVIP = {'C2H2':11.10, 'C2H4':10.35, 'C4H4S':8.90, 'C6H6':9.10,\n",
    "          'CH3Cl':11.27, 'CH3OH':10.47, 'CH3SH':9.31, 'CH4':13.99,\n",
    "          'Cl2':11.48, 'ClF':12.47, 'CO':13.45, 'CO2':13.31,\n",
    "          'CS':10.92, 'F2':14.90, 'H2CO':10.38, 'H2O':11.81,\n",
    "          'H2O2':10.96, 'HCl':12.54, 'HCN':13.30, 'Na2':4.73}\n",
    "refVEA = {'C2H2':-2.495, 'C2H4':-1.798, 'C4H4S':np.nan, 'C6H6':-0.930,\n",
    "          'CH3Cl':np.nan, 'CH3OH':-0.909, 'CH3SH':np.nan, 'CH4':-0.761,\n",
    "          'Cl2':1.381, 'ClF':np.nan, 'CO':-0.438, 'CO2':-0.974,\n",
    "          'CS':0.495, 'F2':1.059, 'H2CO':-0.764, 'H2O':-0.911,\n",
    "          'H2O2':-1.796, 'HCl':-1.092, 'HCN':-2.250, 'Na2':0.613}"
   ]
  },
  {
   "cell_type": "markdown",
   "metadata": {},
   "source": [
    "## Read computed GW quasiparticles"
   ]
  },
  {
   "cell_type": "code",
   "execution_count": 4,
   "metadata": {},
   "outputs": [],
   "source": [
    "eqp = []\n",
    "for m in moles:\n",
    "    vacuum = get_vacuum(\"./G2_97/%s-PBE/pw/%s.out\"%(m,m.lower()))\n",
    "    prefix = \"./G2_97/%s-PBE/wfreq\"%m\n",
    "    for i in range(100,401,100):\n",
    "        fname = prefix+\"/kin-20/kin-20-%d/o-eqp.converged.tab\"%i\n",
    "        homo,lumo,gap = get_eqp_homo_lumo_gap(fname)\n",
    "        eqp.append((m,20,i,homo-vacuum,lumo-vacuum,gap))\n",
    "    for i in range(100,401,100):\n",
    "        fname = prefix+\"/kin-100/kin-100-%d/o-eqp.converged.tab\"%i\n",
    "        homo,lumo,gap = get_eqp_homo_lumo_gap(fname)\n",
    "        eqp.append((m,100,i,homo-vacuum,lumo-vacuum,gap))\n",
    "    for i in range(200,501,100):\n",
    "        fname = prefix+\"/std-%d/o-eqp.converged.tab\"%i\n",
    "        homo,lumo,gap = get_eqp_homo_lumo_gap(fname)\n",
    "        eqp.append((m,i,0,homo-vacuum,lumo-vacuum,gap))\n",
    "\n",
    "#     for i in range(120,500,100):\n",
    "#         fname = prefix+\"/std-%d/o-eqp.converged.tab\"%i\n",
    "#         homo,lumo,gap = get_eqp_homo_lumo_gap(fname)\n",
    "#         eqp.append((m,i,0,homo-vacuum,lumo-vacuum,gap))\n",
    "\n",
    "\n",
    "# print(eqp)\n",
    "eqp = np.array(eqp,dtype=[('mol','<U32'),('std',int),('kin',int),('homo',float),('lumo',float),('gap',float)])\n",
    "eqp_df = pd.DataFrame(eqp,columns=['mol','std','kin','homo','lumo','gap'])\n",
    "# eqp_df"
   ]
  },
  {
   "cell_type": "markdown",
   "metadata": {},
   "source": [
    "## Interpolate the quasiparticle energies"
   ]
  },
  {
   "cell_type": "code",
   "execution_count": 5,
   "metadata": {},
   "outputs": [],
   "source": [
    "eqp_interp = []\n",
    "for i in range(0,len(eqp),4):\n",
    "    mol = eqp['mol'][i]\n",
    "    tmpstd = eqp['std'][i:i+4]\n",
    "    tmpkin = eqp['kin'][i:i+4]\n",
    "    tmphomo = eqp['homo'][i:i+4]\n",
    "    tmplumo = eqp['lumo'][i:i+4]\n",
    "    popt,popv = curve_fit(model_func,tmpstd+tmpkin,tmphomo)\n",
    "    homo = popt[0]\n",
    "    popt,popv = curve_fit(model_func,tmpstd+tmpkin,tmplumo)\n",
    "    lumo = popt[0]\n",
    "    eqp_interp.append((mol,homo,lumo,lumo-homo))"
   ]
  },
  {
   "cell_type": "code",
   "execution_count": null,
   "metadata": {},
   "outputs": [],
   "source": []
  },
  {
   "cell_type": "code",
   "execution_count": 6,
   "metadata": {},
   "outputs": [
    {
     "name": "stdout",
     "output_type": "stream",
     "text": [
      "  C2H2 &  11.07 &  11.06 &  11.06 \\\\\n",
      "  C2H4 &  10.41 &  10.40 &  10.40 \\\\\n",
      " C4H4S &   8.80 &   8.77 &   8.76 \\\\\n",
      "  C6H6 &   9.17 &   9.14 &   9.13 \\\\\n",
      " CH3Cl &  11.28 &  11.26 &  11.25 \\\\\n",
      " CH3OH &  10.58 &  10.56 &  10.56 \\\\\n",
      " CH3SH &   9.39 &   9.36 &   9.36 \\\\\n",
      "   CH4 &  14.01 &  14.01 &  14.01 \\\\\n",
      "   Cl2 &  11.51 &  11.51 &  11.50 \\\\\n",
      "   ClF &  12.55 &  12.55 &  12.54 \\\\\n",
      "    CO &  13.51 &  13.50 &  13.50 \\\\\n",
      "   CO2 &  13.32 &  13.31 &  13.31 \\\\\n",
      "    CS &  11.00 &  10.98 &  10.98 \\\\\n",
      "    F2 &  14.99 &  14.97 &  14.97 \\\\\n",
      "  H2CO &  10.43 &  10.42 &  10.42 \\\\\n",
      "   H2O &  11.82 &  11.82 &  11.81 \\\\\n",
      "  H2O2 &  10.87 &  10.87 &  10.86 \\\\\n",
      "   HCl &  12.50 &  12.50 &  12.50 \\\\\n",
      "   HCN &  13.20 &  13.20 &  13.20 \\\\\n",
      "   Na2 &   4.95 &   4.95 &   4.95 \\\\\n"
     ]
    }
   ],
   "source": [
    "# Output interpolated HOMO\n",
    "for i in range(0,len(eqp_interp),3):\n",
    "    # print order : kin20, kin100, std100, without ref\n",
    "    print(\"%6s & %6.2f & %6.2f & %6.2f \\\\\\\\\"%(moles[i//3],-eqp_interp[i][1],-eqp_interp[i+1][1],-eqp_interp[i+2][1]))"
   ]
  },
  {
   "cell_type": "code",
   "execution_count": 7,
   "metadata": {},
   "outputs": [
    {
     "name": "stdout",
     "output_type": "stream",
     "text": [
      "  C2H2 &  -2.42 &  -2.41 &  -2.41 \\\\\n",
      "  C2H4 &  -1.75 &  -1.75 &  -1.75 \\\\\n",
      " C4H4S &  -0.85 &  -0.81 &  -0.80 \\\\\n",
      "  C6H6 &  -1.01 &  -0.96 &  -0.96 \\\\\n",
      " CH3Cl &  -1.17 &  -1.16 &  -1.16 \\\\\n",
      " CH3OH &  -0.89 &  -0.89 &  -0.89 \\\\\n",
      " CH3SH &  -0.88 &  -0.88 &  -0.88 \\\\\n",
      "   CH4 &  -0.64 &  -0.64 &  -0.64 \\\\\n",
      "   Cl2 &   1.65 &   1.64 &   1.65 \\\\\n",
      "   ClF &   1.28 &   1.28 &   1.28 \\\\\n",
      "    CO &  -1.56 &  -1.57 &  -1.57 \\\\\n",
      "   CO2 &  -0.97 &  -0.97 &  -0.97 \\\\\n",
      "    CS &   0.49 &   0.51 &   0.51 \\\\\n",
      "    F2 &   1.16 &   1.16 &   1.16 \\\\\n",
      "  H2CO &  -0.69 &  -0.68 &  -0.68 \\\\\n",
      "   H2O &  -0.90 &  -0.90 &  -0.90 \\\\\n",
      "  H2O2 &  -1.80 &  -1.79 &  -1.79 \\\\\n",
      "   HCl &  -1.07 &  -1.07 &  -1.07 \\\\\n",
      "   HCN &  -2.08 &  -2.08 &  -2.08 \\\\\n",
      "   Na2 &   0.64 &   0.63 &   0.63 \\\\\n"
     ]
    }
   ],
   "source": [
    "# Output interpolated LUMO\n",
    "for i in range(0,len(eqp_interp),3):\n",
    "    # print order : kin20, kin100, std100, without ref\n",
    "    print(\"%6s & %6.2f & %6.2f & %6.2f \\\\\\\\\"%(moles[i//3],-eqp_interp[i][2],-eqp_interp[i+1][2],-eqp_interp[i+2][2]))"
   ]
  },
  {
   "cell_type": "code",
   "execution_count": null,
   "metadata": {},
   "outputs": [],
   "source": []
  }
 ],
 "metadata": {
  "kernelspec": {
   "display_name": "Python 3 (ipykernel)",
   "language": "python",
   "name": "python3"
  },
  "language_info": {
   "codemirror_mode": {
    "name": "ipython",
    "version": 3
   },
   "file_extension": ".py",
   "mimetype": "text/x-python",
   "name": "python",
   "nbconvert_exporter": "python",
   "pygments_lexer": "ipython3",
   "version": "3.9.9"
  }
 },
 "nbformat": 4,
 "nbformat_minor": 2
}
