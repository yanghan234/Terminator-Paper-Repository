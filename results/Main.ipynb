{
 "cells": [
  {
   "cell_type": "markdown",
   "id": "ae1a0a73",
   "metadata": {},
   "source": [
    "# This is the entry point of all the scripts and notebooks to post-process the results\n"
   ]
  },
  {
   "cell_type": "markdown",
   "id": "63701a2d",
   "metadata": {},
   "source": [
    "## In the main text\n"
   ]
  },
  {
   "cell_type": "markdown",
   "id": "64596510",
   "metadata": {},
   "source": [
    "[Figure 1](./G2_97-eigenvalues-of-eigenpotentials.ipynb)"
   ]
  },
  {
   "cell_type": "markdown",
   "id": "619350b0",
   "metadata": {},
   "source": [
    "[Figure 2](../manuscript-final/fig/workflow.png) was generated with Keynote."
   ]
  },
  {
   "cell_type": "markdown",
   "id": "a07f88b6",
   "metadata": {},
   "source": [
    "[Figure 3](./G2_97-interpolation-example.ipynb)"
   ]
  },
  {
   "cell_type": "markdown",
   "id": "91619ae4",
   "metadata": {},
   "source": [
    "[Figure 4](../manuscript-final/fig/interface.png)"
   ]
  },
  {
   "cell_type": "markdown",
   "id": "9bb8aa21",
   "metadata": {},
   "source": [
    "[Table 1 and Table 2](./G2_97-summary.ipynb)"
   ]
  },
  {
   "cell_type": "markdown",
   "id": "4014442c",
   "metadata": {},
   "source": [
    "[Table 3](./C60-post-process.ipynb)"
   ]
  },
  {
   "cell_type": "markdown",
   "id": "0af9f2cc",
   "metadata": {},
   "source": [
    "Table 4 summarizes the results of two notebooks, [Si](./Si-post-process.ipynb) and [Si3N4](./Si3N4-post-process.ipynb)"
   ]
  },
  {
   "cell_type": "markdown",
   "id": "06da2c65",
   "metadata": {},
   "source": [
    "Table 5 summarizes the results of two notebooks, [ldos method](./interface-LDOS-post-process.ipynb) and [potential method](./interface-potential-post-process.ipynb)"
   ]
  },
  {
   "cell_type": "markdown",
   "id": "a3c2d317",
   "metadata": {},
   "source": [
    "## In the SI"
   ]
  },
  {
   "cell_type": "markdown",
   "id": "c9ea8e90",
   "metadata": {},
   "source": [
    "[Figure S1](./Compare-eigenvalues.ipynb)"
   ]
  },
  {
   "cell_type": "markdown",
   "id": "21a6483f",
   "metadata": {},
   "source": [
    "Figure S2 and S3 are plotted in the same [notebook](./Methane-interpolate-example.ipynb)"
   ]
  }
 ],
 "metadata": {
  "kernelspec": {
   "display_name": "Python 3 (ipykernel)",
   "language": "python",
   "name": "python3"
  },
  "language_info": {
   "codemirror_mode": {
    "name": "ipython",
    "version": 3
   },
   "file_extension": ".py",
   "mimetype": "text/x-python",
   "name": "python",
   "nbconvert_exporter": "python",
   "pygments_lexer": "ipython3",
   "version": "3.9.9"
  }
 },
 "nbformat": 4,
 "nbformat_minor": 5
}
