{
 "cells": [
  {
   "cell_type": "code",
   "execution_count": 1,
   "metadata": {},
   "outputs": [],
   "source": [
    "import pandas as pd\n",
    "import matplotlib.pyplot as plt\n",
    "import palettable"
   ]
  },
  {
   "cell_type": "code",
   "execution_count": 4,
   "metadata": {},
   "outputs": [
    {
     "name": "stdout",
     "output_type": "stream",
     "text": [
      "level 128, gw1000:  5.6971, gw2000:  5.5544, gw_fit:  5.4471 kin400_fit:  5.5340\n",
      "level 129, gw1000:  7.0308, gw2000:  6.9063, gw_fit:  6.7878 kin400_fit:  6.8240\n"
     ]
    }
   ],
   "source": [
    "from scipy.optimize import curve_fit\n",
    "import numpy as np\n",
    "import matplotlib.pyplot as plt\n",
    "\n",
    "def func2(x,a,b):\n",
    "    return a+b/x\n",
    "\n",
    "prefix = './Si'\n",
    "## Readin DFT/PBE results\n",
    "eig_ks = []\n",
    "with open(prefix+'/pw/eigenval.xml','r') as f:\n",
    "    line = f.readline()\n",
    "    while line != '':\n",
    "        eig_ks.append(float(line)*27.2114)\n",
    "        line = f.readline()\n",
    "homo = eig_ks[127]\n",
    "eig_ks = eig_ks[32:184]\n",
    "\n",
    "# Readin GW/PBE results\n",
    "gw = []\n",
    "arr = np.array([500,1000,1500,2000])\n",
    "for i in arr:\n",
    "    tmp = []\n",
    "    with open(prefix+'/wfreq/std-'+str(i)+'-152st/std-'+str(i)+'.output', 'r') as f:\n",
    "        lines = f.readlines()\n",
    "        for j in range(len(lines)):\n",
    "            if 'CONVERGENCE' in lines[j]:\n",
    "                for k in range(j-29,j-3):\n",
    "                    tmp = tmp + [float(x) for x in lines[k].split()]\n",
    "    gw.append(tmp)\n",
    "gw_fit = []\n",
    "for st in range(len(gw[0])):\n",
    "    propt, propv = curve_fit(func2,arr, [gw[i][st] for i in range(len(arr))])\n",
    "    gw_fit.append(propt[0])\n",
    "dif = [gw_fit[i]-eig_ks[i] for i in range(len(eig_ks))]\n",
    "\n",
    "gw1000 = []\n",
    "with open(prefix+'/wfreq/std-1000-152st/std-1000.output','r') as f:\n",
    "    lines = f.readlines()\n",
    "    for j in range(len(lines)):\n",
    "        if 'CONVERGENCE' in lines[j]:\n",
    "            for k in range(j-29,j-3):\n",
    "                gw1000 = gw1000 + [float(x) for x in lines[k].split()]\n",
    "gw2000 = []\n",
    "with open(prefix+'/wfreq/std-2000-152st/std-2000.output','r') as f:\n",
    "    lines = f.readlines()\n",
    "    for j in range(len(lines)):\n",
    "        if 'CONVERGENCE' in lines[j]:\n",
    "            for k in range(j-29,j-3):\n",
    "                gw2000 = gw2000 + [float(x) for x in lines[k].split()]\n",
    "dif1000 = [gw1000[i]-eig_ks[i] for i in range(len(eig_ks))]\n",
    "dif2000 = [gw2000[i]-eig_ks[i] for i in range(len(eig_ks))]\n",
    "\n",
    "# kin-400-*.output\n",
    "kin400 = []\n",
    "arr4 = np.array([100,200,300,400])\n",
    "for i in arr4:\n",
    "    tmp = []\n",
    "    with open(prefix+'/wfreq/kin-400-152st/kin-400-'+str(i)+'/kin-400-'+str(i)+'.output', 'r') as f:\n",
    "        lines = f.readlines()\n",
    "        for j in range(len(lines)):\n",
    "            if 'CONVERGENCE' in lines[j]:\n",
    "                for k in range(j-29,j-3):\n",
    "                    tmp = tmp + [float(x) for x in lines[k].split()]\n",
    "    kin400.append(tmp)\n",
    "kin400_fit = []\n",
    "for st in range(len(kin400[0])):\n",
    "    propt, propv = curve_fit(func2, arr4+400, [kin400[i][st] for i in range(len(arr4))])\n",
    "    kin400_fit.append(propt[0])\n",
    "dif4 = [kin400_fit[i]-eig_ks[i] for i in range(len(eig_ks))]\n",
    "\n",
    "\n",
    "for i in range(len(kin400_fit)):\n",
    "    if 95 <= i <= 96:\n",
    "        print(\"level %3d, gw1000:%8.4f, gw2000:%8.4f, gw_fit:%8.4f kin400_fit:%8.4f\"\n",
    "              %(i+33,gw1000[i],gw2000[i],gw_fit[i],kin400_fit[i]))\n",
    "   "
   ]
  },
  {
   "cell_type": "code",
   "execution_count": null,
   "metadata": {},
   "outputs": [],
   "source": []
  }
 ],
 "metadata": {
  "kernelspec": {
   "display_name": "Python 3 (ipykernel)",
   "language": "python",
   "name": "python3"
  },
  "language_info": {
   "codemirror_mode": {
    "name": "ipython",
    "version": 3
   },
   "file_extension": ".py",
   "mimetype": "text/x-python",
   "name": "python",
   "nbconvert_exporter": "python",
   "pygments_lexer": "ipython3",
   "version": "3.9.9"
  }
 },
 "nbformat": 4,
 "nbformat_minor": 2
}
