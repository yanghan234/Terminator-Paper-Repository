{
 "cells": [
  {
   "cell_type": "code",
   "execution_count": 1,
   "metadata": {
    "collapsed": false
   },
   "outputs": [],
   "source": [
    "for n in [20, 40, 60, 80, 100]:\n",
    "    for m in range(100,901,100):\n",
    "        with open('si-std.in','r') as f:\n",
    "            std_lines = f.readlines()\n",
    "        with open('si-test.in', 'r') as f:\n",
    "            test_lines = f.readlines()\n",
    "        with open('si-mgs.in', 'r') as f:\n",
    "            mgs_lines = f.readlines()\n",
    "        with open('si.qsub', 'r') as f:\n",
    "            qsub_lines = f.readlines()\n",
    "        std = 'si-std-'+str(n)+'-'+str(m)\n",
    "        with open(std+'.in', 'w') as f:\n",
    "            for li in std_lines:\n",
    "                if 'qe_prefix' in li:\n",
    "                    f.write(\"qe_prefix='./si-\"+str(n)+\"-\"+str(m)+\"'\\n\")\n",
    "                elif 'west_prefix' in li:\n",
    "                    f.write(\"west_prefix='./si_kin_\"+str(n)+\"_\"+str(m)+\"'\\n\")\n",
    "                elif 'n_pdep_eigen' in li:\n",
    "                    f.write(\"n_pdep_eigen      = \"+str(n)+\"\\n\")\n",
    "                else:\n",
    "                    f.write(li)\n",
    "        test = 'si-test-'+str(n)+'-'+str(m)\n",
    "        with open(test+'.in', 'w') as f:\n",
    "            for li in test_lines:\n",
    "                if 'qe_prefix' in li:\n",
    "                    f.write(\"qe_prefix='./si-\"+str(n)+\"-\"+str(m)+\"'\\n\")\n",
    "                elif 'west_prefix' in li:\n",
    "                    f.write(\"west_prefix='./si_kin_\"+str(n)+\"_\"+str(m)+\"'\\n\")\n",
    "                elif 'n_pdep_eigen' in li:\n",
    "                    f.write(\"n_pdep_eigen      = \"+str(m)+\"\\n\")\n",
    "                elif 'n_read_old_dvg' in li:\n",
    "                    f.write(\"n_read_old_dvg    = \"+str(n)+\"\\n\")\n",
    "                else:\n",
    "                    f.write(li)\n",
    "        mgs = 'si-mgs-'+str(n)+'-'+str(m)\n",
    "        with open(mgs+'.in', 'w') as f:\n",
    "            for li in mgs_lines:\n",
    "                if 'qe_prefix' in li:\n",
    "                    f.write(\"qe_prefix='./si-\"+str(n)+\"-\"+str(m)+\"'\\n\")\n",
    "                elif 'west_prefix' in li:\n",
    "                    f.write(\"west_prefix='./si_kin_\"+str(n)+\"_\"+str(m)+\"'\\n\")\n",
    "                elif 'n_pdep_eigen' in li:\n",
    "                    f.write(\"n_pdep_eigen      = \"+str(m)+\"\\n\")\n",
    "                elif 'n_read_old_dvg' in li:\n",
    "                    f.write(\"n_read_old_dvg    = \"+str(n)+\"\\n\")\n",
    "                else:\n",
    "                    f.write(li)\n",
    "        qsub = 'si-'+str(n)+'-'+str(m)\n",
    "        with open(qsub+'.qsub', 'w') as f:\n",
    "            for li in qsub_lines:\n",
    "                if 'job-name' in li:\n",
    "                    f.write(\"#SBATCH --job-name=si\"+str(n+m)+\"\\n\")\n",
    "                elif 'partition' in li:\n",
    "                    f.write(\"#SBATCH --partition=sandyb\\n\")\n",
    "                elif 'qos' in li:\n",
    "                    f.write(\"##SBATCH --qos=gagalli-small\\n\")\n",
    "                elif 'constraint' in li:\n",
    "                    f.write(\"##SBATCH --constraint=e5-2680v2\\n\")\n",
    "                elif 'nodes' in li:\n",
    "                    f.write(\"#SBATCH --nodes=10\\n\")\n",
    "                elif 'ntasks-per-node' in li:\n",
    "                    f.write(\"#SBATCH --ntasks-per-node=16\\n\")\n",
    "                else:\n",
    "                    f.write(li)\n",
    "            f.write(\"module unload mkl intel intelmpi\\n\")\n",
    "            f.write(\"module load intel intelmpi mkl\\n\")\n",
    "            f.write(\"\\n\")\n",
    "            f.write(\"mpirun -n 160 /project/gagalli/yanghan/midway1/qe-6.1/bin/wstat.x \"+\n",
    "                    \"-nimage 16 < \"+std +\".in >& \"+std +\".out\\n\")\n",
    "            f.write(\"mpirun -n 160 /project/gagalli/yanghan/midway1/my-qe-6.1/bin/wstat.x \"+\n",
    "                    \"-nimage 16 < \"+test+\".in >& \"+test+\".out\\n\")\n",
    "            f.write(\"mpirun -n 160 /project/gagalli/yanghan/midway1/my-qe-6.1/bin/wstat.x \"+\n",
    "                    \"-nimage 16 < \"+mgs+\".in >& \"+mgs+\".out\\n\")\n"
   ]
  },
  {
   "cell_type": "code",
   "execution_count": null,
   "metadata": {
    "collapsed": true
   },
   "outputs": [],
   "source": []
  }
 ],
 "metadata": {
  "kernelspec": {
   "display_name": "Python 3",
   "language": "python",
   "name": "python3"
  },
  "language_info": {
   "codemirror_mode": {
    "name": "ipython",
    "version": 3
   },
   "file_extension": ".py",
   "mimetype": "text/x-python",
   "name": "python",
   "nbconvert_exporter": "python",
   "pygments_lexer": "ipython3",
   "version": "3.6.0"
  }
 },
 "nbformat": 4,
 "nbformat_minor": 2
}
